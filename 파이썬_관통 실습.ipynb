{
 "cells": [
  {
   "cell_type": "markdown",
   "metadata": {},
   "source": [
    "## 달력 출력하기\n",
    "1. 연도를 인자로 받아 윤년, 평년 구하는 함수\n",
    "    + 정수형 변수 1개를 입력 받음\n",
    "    + bool형으로 반환 (평년:False, 윤년:True)\n",
    "2. 연도 및 월, 일을 인자로 받아 해당 일의 요일을 구하는 함수\n",
    "    + 제라의 공식 이용 (인터넷 참고하여 직접 구현 혹은 다른 사람 코드 가져오기)\n",
    "    + 정수형으로 반환 (일:0, 월:1, 화:2, 수:3, 목:4, 금:5, 토:6)\n",
    "3. 연도와 월을 키보드로 입력받아 아래와 같이 달력 출력\n",
    "    + ex) 2024, 01 입력시 아래와 같이 출력됨\n",
    "        ```\n",
    "        2024년 01월 - 01일, 02일, 03일, ......, 31일\n",
    "        ```\n",
    "    + 문제 1에서 윤년, 평년 구하는 함수를 통해 2월달의 마지막 일수를 조정해야함\n",
    "4. 연도와 월을 키보드로 입력받아 아래와 같이 달력 출력\n",
    "    + ex) 2024, 01 입력시 아래와 같이 출력됨\n",
    "    \n",
    "    ![출력 예시](./ex_달력_출력.png)\n",
    "\n",
    "    + 이차원 리스트에 day값을 넣어서 출력 권장 (필수는 아님)\n",
    "    + 파이썬 글자에 색깔 입력 방법 검색하여 일요일에 해당하는 날짜는 빨간색, 토요일은 파랑색으로 출력"
   ]
  },
  {
   "cell_type": "code",
   "execution_count": 1,
   "metadata": {},
   "outputs": [
    {
     "name": "stdout",
     "output_type": "stream",
     "text": [
      "False\n",
      "True\n",
      "True\n"
     ]
    }
   ],
   "source": [
    "# 1. 연도를 입력 받아 윤년, 평년 구하는 함수\n",
    "# (공식) ①,② 두조건을 다 만족해야 윤년임\n",
    "# ① 년도가 4로 나누어 떨어져야 함\n",
    "# ② 년도가 100으로나누어 떨어지지 않거나 년도가 400으로 나누어 떨어져야 함\n",
    "# ex)  4(윤년), 100(평년), 400(윤년)\n",
    "# and 연산자, or 연산자 활용\n",
    "# 반환값 True/False\n",
    "\n",
    "def is_leap_year(year) :\n",
    "    # (1) year % 4 == 0\n",
    "    # (2) (year % 100 != 0) or (year % 400 == 0)\n",
    "    return (year % 4 == 0) and ((year % 100 != 0) or (year % 400 == 0))\n",
    "\n",
    "print(is_leap_year(100))\n",
    "print(is_leap_year(400))\n",
    "print(is_leap_year(2024))"
   ]
  },
  {
   "cell_type": "code",
   "execution_count": 5,
   "metadata": {},
   "outputs": [
    {
     "data": {
      "text/plain": [
       "5"
      ]
     },
     "execution_count": 5,
     "metadata": {},
     "output_type": "execute_result"
    }
   ],
   "source": [
    "# 2. 연도 및 월, 일을 입력 받아 해당 일의 요일을 구하는 함수\n",
    "# 제라의 공식 활용 (인터넷 검색 후 구현)\n",
    "def get_week(year, month, day) :\n",
    "    if month <= 2 :\n",
    "        year -= 1\n",
    "        month += 12\n",
    "\n",
    "    a = year // 100\n",
    "    b = year % 100\n",
    "\n",
    "    return ((21 * a // 4) + (5 * b // 4) + (26 * (month+1) // 10) + day -1) % 7\n",
    "\n",
    "get_week(2024, 1, 22) #1 \n",
    "get_week(2024, 7, 26) #5\n",
    "#0:일요일, 1:월요일, .... 6:토요일"
   ]
  },
  {
   "cell_type": "code",
   "execution_count": 8,
   "metadata": {},
   "outputs": [
    {
     "name": "stdout",
     "output_type": "stream",
     "text": [
      "2024 7\n",
      "2024년 07월 - 01일, 02일, 03일, 04일, 05일, 06일, 07일, 08일, 09일, 10일, 11일, 12일, 13일, 14일, 15일, 16일, 17일, 18일, 19일, 20일, 21일, 22일, 23일, 24일, 25일, 26일, 27일, 28일, 29일, 30일, 31일\n"
     ]
    }
   ],
   "source": [
    "# 2.5 연도와 월을 키보드로 입력받아 텍스트 형식으로 출력\n",
    "# ex) 2024, 07 입력\n",
    "# 2024년도 07월 - 01일, 02일, 03일, ...., 31일\n",
    "year, mon = map(int, input('년도와 월을 입력하세요 ex) 2024 07').split())\n",
    "print(year, mon) \n",
    "last_days = {1:31, 2:29, 3:31, 4:30, 5:31, 6:30, 7:31, 8:31, 9:30, 10:31, 11:30, 12:31}\n",
    "if mon ==2 and is_leap_year(year) :\n",
    "    last_days[mon] = 29\n",
    "print(f'{year:0>4}년 {mon:0>2}월', end = ' - ')\n",
    "\n",
    "for day in range(1, last_days[mon]) :\n",
    "    print(f'{day:0>2}일', end = ', ')\n",
    "else :\n",
    "    print(f'{last_days[mon]:0>2}일')\n"
   ]
  },
  {
   "cell_type": "code",
   "execution_count": 5,
   "metadata": {},
   "outputs": [
    {
     "name": "stdout",
     "output_type": "stream",
     "text": [
      "        2024년 07월        \n",
      "\u001b[31mSun\u001b[0m Mon Tue Wed Thu Fri \u001b[34mSat\u001b[0m \n",
      "      1   2   3   4   5 \u001b[34m  6\u001b[0m \n",
      "\u001b[31m  7\u001b[0m   8   9  10  11  12 \u001b[34m 13\u001b[0m \n",
      "\u001b[31m 14\u001b[0m  15  16  17  18  19 \u001b[34m 20\u001b[0m \n",
      "\u001b[31m 21\u001b[0m  22  23  24  25  26 \u001b[34m 27\u001b[0m \n",
      "\u001b[31m 28\u001b[0m  29  30  31             \n"
     ]
    }
   ],
   "source": [
    "#3. 연도와 월을 키보드로 입력받아 아래와 같이 달력 출력\n",
    "#1과 2에서 구현한 함수 활용 및 print()출력시 색깔 지정 검색 후 구현\n"
   ]
  }
 ],
 "metadata": {
  "kernelspec": {
   "display_name": "Python 3",
   "language": "python",
   "name": "python3"
  },
  "language_info": {
   "codemirror_mode": {
    "name": "ipython",
    "version": 3
   },
   "file_extension": ".py",
   "mimetype": "text/x-python",
   "name": "python",
   "nbconvert_exporter": "python",
   "pygments_lexer": "ipython3",
   "version": "3.9.13"
  }
 },
 "nbformat": 4,
 "nbformat_minor": 2
}
